{
 "cells": [
  {
   "cell_type": "markdown",
   "metadata": {},
   "source": [
    "# Handling Numbers"
   ]
  },
  {
   "cell_type": "markdown",
   "metadata": {},
   "source": [
    "## Information\n",
    "Taylor, *An Introduction to Error Analysis*, Ch 1, 2\n",
    "\n",
    "Some of these questions do not have a right or wrong answer, but all require a justification."
   ]
  },
  {
   "cell_type": "markdown",
   "metadata": {},
   "source": [
    "\n",
    "1) Below are listed physical properties that have been measured by an experienced scientist who gives us no explicit indication of the uncertainty in each measurement.  Estimate a reasonable range of values for each measurement, using Taylor's notation (sec 1.5, 1.6, 2.1).\n",
    "\n",
    "mass of crystal = 1.64 g\n",
    "\n",
    "boiling point = 169.1$^\\circ$C\n",
    "\n",
    "height of GC peak = 8.3 inches\n",
    " \n",
    "Explain any assumptions you make about the instruments or method of the measurement."
   ]
  },
  {
   "cell_type": "code",
   "execution_count": null,
   "metadata": {
    "collapsed": true
   },
   "outputs": [],
   "source": []
  },
  {
   "cell_type": "markdown",
   "metadata": {},
   "source": [
    "2) Criticize the following ways of reporting an experimental result (Taylor, 2.2).  Rewrite each in a more acceptable form.\n",
    "\n",
    "a) Our measurements determined R to be $8.3 \\pm 0.1168$ J/(K$\\cdot$mol) \n",
    "\n",
    "b) Our measurements determined R to be $8.31478 \\pm 0.1$\n",
    "    J/(K$\\cdot$mol)\n"
   ]
  },
  {
   "cell_type": "code",
   "execution_count": null,
   "metadata": {
    "collapsed": true
   },
   "outputs": [],
   "source": []
  },
  {
   "cell_type": "markdown",
   "metadata": {},
   "source": [
    "3) Mary and Joe measured R in the lab with the following results: \n",
    "\n",
    "Mary's R:  $8.3 \\pm 0.2$ J/(K$\\cdot$mol)\n",
    "\n",
    "Joe's R: $8.5 \\pm 0.2$    J/(K$\\cdot$mol)\n",
    "\n",
    "Would you judge the discrepancy in their results *significant* or *insignificant*? Explain. (Taylor 2.3)"
   ]
  },
  {
   "cell_type": "code",
   "execution_count": null,
   "metadata": {
    "collapsed": true
   },
   "outputs": [],
   "source": []
  },
  {
   "cell_type": "markdown",
   "metadata": {},
   "source": [
    "4) When Mg metal is treated with HCl to generate dihydrogen gas, the ideal gas law predicts\n",
    "\n",
    "$$ V_{\\text{H}_2}=\\frac{RT}{\\text{AW}_{\\text{Mg}} P}\\;\n",
    "  \\text{g}_{_{\\text{Mg}}}$$\n",
    "\n",
    "Do the data listed below verify the relation between $V_{\\text{H}_2}$ and $\\text{g}_{_{\\text{Mg}}}$?  Use a graphical or ratio argument to support your answer. \\marginlabel{Taylor: 2.6} You may wish to include estimated uncertainties in your account.\n"
   ]
  },
  {
   "cell_type": "code",
   "execution_count": null,
   "metadata": {
    "collapsed": true
   },
   "outputs": [],
   "source": []
  },
  {
   "cell_type": "code",
   "execution_count": 1,
   "metadata": {
    "collapsed": false
   },
   "outputs": [],
   "source": [
    "import numpy as np\n",
    "import matplotlib.pyplot as plt\n",
    "%matplotlib inline"
   ]
  },
  {
   "cell_type": "code",
   "execution_count": 6,
   "metadata": {
    "collapsed": false
   },
   "outputs": [],
   "source": [
    "V_H2 = np.array([\n",
    "12.7, 14.0, 15.2, 16.5, 17.8, 19.0])\n",
    "\n",
    "g_Mg = np.array([\n",
    "0.0101, 0.0110, 0.0120, 0.0129, 0.0140, 0.0150])"
   ]
  },
  {
   "cell_type": "code",
   "execution_count": 21,
   "metadata": {
    "collapsed": false
   },
   "outputs": [
    {
     "data": {
      "text/plain": [
       "<matplotlib.text.Text at 0x7f7c6e98b588>"
      ]
     },
     "execution_count": 21,
     "metadata": {},
     "output_type": "execute_result"
    },
    {
     "data": {
      "image/png": "[encoded data removed]",
      "text/plain": [
       "<matplotlib.figure.Figure at 0x7f7c6f783cf8>"
      ]
     },
     "metadata": {},
     "output_type": "display_data"
    }
   ],
   "source": [
    "plt.figure(figsize=(8,6))\n",
    "plt.ylim(0.008, 0.016)\n",
    "plt.plot(V_H2, g_Mg, 'o', mfc='none')\n",
    "plt.xlabel('g Mg')\n",
    "plt.ylabel(r'$V_{H_2}$')"
   ]
  },
  {
   "cell_type": "code",
   "execution_count": 4,
   "metadata": {
    "collapsed": false
   },
   "outputs": [
    {
     "name": "stdout",
     "output_type": "stream",
     "text": [
      "1257.42574257\n",
      "1272.72727273\n",
      "1266.66666667\n",
      "1279.06976744\n",
      "1271.42857143\n",
      "1266.66666667\n"
     ]
    }
   ],
   "source": [
    "ratios = V_H2 / g_Mg\n",
    "for r in ratios:\n",
    "    print(r)"
   ]
  },
  {
   "cell_type": "code",
   "execution_count": 5,
   "metadata": {
    "collapsed": false
   },
   "outputs": [
    {
     "data": {
      "text/plain": [
       "(1268.9974479175492, 6.6588665485425897)"
      ]
     },
     "execution_count": 5,
     "metadata": {},
     "output_type": "execute_result"
    }
   ],
   "source": [
    "np.mean(ratios), np.std(ratios)"
   ]
  },
  {
   "cell_type": "code",
   "execution_count": null,
   "metadata": {
    "collapsed": true
   },
   "outputs": [],
   "source": []
  }
 ],
 "metadata": {
  "kernelspec": {
   "display_name": "Python 3",
   "language": "python",
   "name": "python3"
  },
  "language_info": {
   "codemirror_mode": {
    "name": "ipython",
    "version": 3
   },
   "file_extension": ".py",
   "mimetype": "text/x-python",
   "name": "python",
   "nbconvert_exporter": "python",
   "pygments_lexer": "ipython3",
   "version": "3.5.2"
  }
 },
 "nbformat": 4,
 "nbformat_minor": 0
}
