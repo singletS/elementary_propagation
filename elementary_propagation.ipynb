{
 "cells": [
  {
   "cell_type": "markdown",
   "metadata": {},
   "source": [
    "# Elementary Propagation\n",
    "S Singleton, J Mills, R Estler"
   ]
  },
  {
   "cell_type": "markdown",
   "metadata": {},
   "source": [
    "### Background Reading\n",
    "- *An Introduction to Error Analysis*, Taylor, University Science Books, 1997, Ch 3.\n",
    "- Wikipedia [Propagation of Uncertainty](https://en.wikipedia.org/wiki/Propagation_of_uncertainty#Simplification)\n",
    "- \"Error propagation: A functional approach,\" I.F. Hughes, T.P.A. Hase, *J. Chem. Ed.*, 89, 2012, p821,  [DOI: 10.1021/ed2004627](http://pubs.acs.org/doi/abs/10.1021/ed2004627)\n",
    "- *A Student's Guide to Data and Error Analysis*, Berendsen, Cambridge U. Press, 2011, Ch 3.\n"
   ]
  },
  {
   "cell_type": "markdown",
   "metadata": {},
   "source": [
    "## Task\n",
    "Apply the general uncertainty propagation equation to the measurement situation listed\n",
    "below to develop specific explicit uncertainty expressions.\n",
    "\n",
    "For example\n",
    "<center>Absorbance = absorptivity $\\times$ path length $\\times$ molarity</center>\n",
    "\n",
    "$$A = a \\times b \\times M$$\n",
    "\n",
    "The uncertainty in $A$ is $\\delta A$, and so on.\n",
    "\n",
    "\n",
    "$$\n",
    "  \\delta A = \\sqrt{\\left( \\frac{\\partial A}{\\partial a}\\right) ^2\n",
    "    _{bM} \\delta a^2 + \\left(\\frac{\\partial A}{\\partial b}\n",
    "    \\right)^2_{aM} \\delta b^2 + \\left(\\frac{\\partial A}{\\partial\n",
    "        M}\\right)^2_{ab} \\delta\n",
    "    M^2 }\n",
    "$$ \n",
    "\n",
    "Take the derivative of $A$ with respect to each variable and simplify:\n",
    "\n",
    "$$\n",
    "  = \\sqrt{(b^2 M^2 \\delta a^2 + a^2 M^2 \\delta b^2 + a^2 b^2 \\delta\n",
    "  M^2)} $$\n",
    "\n",
    "This is a symbolic manipulation, so we use `sympy`. It's safe to `import *` because we won't be doing any numerical work in this notebook. The uncertainty terms (e.g, $\\delta a$) could be included, but I chose not to. In this case, I would manually include these terms in a solution (sometimes the computer isn't the best tool for everything?)."
   ]
  },
  {
   "cell_type": "code",
   "execution_count": 1,
   "metadata": {
    "collapsed": false
   },
   "outputs": [],
   "source": [
    "from sympy import *\n",
    "init_printing()"
   ]
  },
  {
   "cell_type": "code",
   "execution_count": 2,
   "metadata": {
    "collapsed": true
   },
   "outputs": [],
   "source": [
    "var('a b M')\n",
    "\n",
    "A = a * b * M"
   ]
  },
  {
   "cell_type": "code",
   "execution_count": 3,
   "metadata": {
    "collapsed": false
   },
   "outputs": [
    {
     "data": {
      "image/png": "[encoded data removed]",
      "text/latex": [
       "$$\\sqrt{M^{2} a^{2} + M^{2} b^{2} + a^{2} b^{2}}$$"
      ],
      "text/plain": [
       "   _______________________\n",
       "  ╱  2  2    2  2    2  2 \n",
       "╲╱  M ⋅a  + M ⋅b  + a ⋅b  "
      ]
     },
     "execution_count": 3,
     "metadata": {},
     "output_type": "execute_result"
    }
   ],
   "source": [
    "sqrt(sum(diff(A,x)**2 for x in['a', 'b', 'M']))  "
   ]
  },
  {
   "cell_type": "code",
   "execution_count": null,
   "metadata": {
    "collapsed": true
   },
   "outputs": [],
   "source": []
  },
  {
   "cell_type": "markdown",
   "metadata": {},
   "source": [
    "## Your Turn\n",
    "Derive uncertainty relationships for the following expressions. Constants are noted; all other labels are variables."
   ]
  },
  {
   "cell_type": "markdown",
   "metadata": {},
   "source": [
    "### Root-mean-square speed of a gas-phase molecule\n",
    "$$ \n",
    " v_{\\text{rms}} = \\sqrt{\\frac{3 RT}{M}}   \\qquad  R \\text{ constant}\n",
    " $$"
   ]
  },
  {
   "cell_type": "code",
   "execution_count": 4,
   "metadata": {
    "collapsed": false
   },
   "outputs": [
    {
     "data": {
      "image/png": "[encoded data removed]",
      "text/latex": [
       "$$\\sqrt{\\frac{3 R}{4 M T} + \\frac{3 R T}{4 M^{3}}}$$"
      ],
      "text/plain": [
       "     _______________\n",
       "    ╱  3⋅R    3⋅R⋅T \n",
       "   ╱  ───── + ───── \n",
       "  ╱   4⋅M⋅T       3 \n",
       "╲╱             4⋅M  "
      ]
     },
     "execution_count": 4,
     "metadata": {},
     "output_type": "execute_result"
    }
   ],
   "source": [
    "var('R T M')\n",
    "v_rms = sqrt(3*R*T/M)\n",
    "\n",
    "delta_v2 = sum(diff(v_rms, x)**2 for x in ['T', 'M'])\n",
    "sqrt(delta_v2)"
   ]
  },
  {
   "cell_type": "code",
   "execution_count": 5,
   "metadata": {
    "collapsed": false
   },
   "outputs": [
    {
     "data": {
      "image/png": "[encoded data removed]",
      "text/latex": [
       "$$\\frac{\\sqrt{3}}{2} \\sqrt{\\frac{R}{M} \\left(\\frac{1}{T} + \\frac{T}{M^{2}}\\right)}$$"
      ],
      "text/plain": [
       "             ____________\n",
       "            ╱   ⎛1   T ⎞ \n",
       "           ╱  R⋅⎜─ + ──⎟ \n",
       "          ╱     ⎜T    2⎟ \n",
       "  ___    ╱      ⎝    M ⎠ \n",
       "╲╱ 3 ⋅  ╱     ────────── \n",
       "      ╲╱          M      \n",
       "─────────────────────────\n",
       "            2            "
      ]
     },
     "execution_count": 5,
     "metadata": {},
     "output_type": "execute_result"
    }
   ],
   "source": [
    " # underscore is an alias for \"output from last line\"; use with caution\n",
    "_.simplify() "
   ]
  },
  {
   "cell_type": "code",
   "execution_count": null,
   "metadata": {
    "collapsed": true
   },
   "outputs": [],
   "source": []
  },
  {
   "cell_type": "markdown",
   "metadata": {},
   "source": [
    "### van der Waals [equation of state](https://en.wikipedia.org/wiki/Van_der_Waals_equation) for real gases\n",
    " \n",
    "$$P = \\frac{RT}{V-b} - \\frac{a}{V^2} \\qquad  R \\text{ constant}$$"
   ]
  },
  {
   "cell_type": "code",
   "execution_count": 6,
   "metadata": {
    "collapsed": false
   },
   "outputs": [
    {
     "data": {
      "image/png": "[encoded data removed]",
      "text/latex": [
       "$$\\frac{R T}{V - b} - \\frac{a}{V^{2}}$$"
      ],
      "text/plain": [
       " R⋅T    a \n",
       "───── - ──\n",
       "V - b    2\n",
       "        V "
      ]
     },
     "execution_count": 6,
     "metadata": {},
     "output_type": "execute_result"
    }
   ],
   "source": [
    "var('T V b a R')\n",
    "\n",
    "\n",
    "P = R*T/(V-b) - (a/V**2)\n",
    "P"
   ]
  },
  {
   "cell_type": "code",
   "execution_count": 7,
   "metadata": {
    "collapsed": false
   },
   "outputs": [
    {
     "data": {
      "image/png": "[encoded data removed]",
      "text/latex": [
       "$$\\frac{R}{V - b} + \\frac{T}{V - b} - \\frac{1}{V^{2}} + \\frac{2 a}{V^{3}}$$"
      ],
      "text/plain": [
       "  R       T     1    2⋅a\n",
       "───── + ───── - ── + ───\n",
       "V - b   V - b    2     3\n",
       "                V     V "
      ]
     },
     "execution_count": 7,
     "metadata": {},
     "output_type": "execute_result"
    }
   ],
   "source": [
    "state_vars = [T, V, b, a, R]\n",
    "\n",
    "partials = sum(diff(P,v) for v in state_vars)\n",
    "partials"
   ]
  },
  {
   "cell_type": "code",
   "execution_count": 8,
   "metadata": {
    "collapsed": false
   },
   "outputs": [
    {
     "data": {
      "image/png": "[encoded data removed]",
      "text/latex": [
       "$$\\sqrt{\\left(\\frac{R}{V - b} + \\frac{T}{V - b} - \\frac{1}{V^{2}} + \\frac{2 a}{V^{3}}\\right)^{2}}$$"
      ],
      "text/plain": [
       "      _____________________________\n",
       "     ╱                           2 \n",
       "    ╱  ⎛  R       T     1    2⋅a⎞  \n",
       "   ╱   ⎜───── + ───── - ── + ───⎟  \n",
       "  ╱    ⎜V - b   V - b    2     3⎟  \n",
       "╲╱     ⎝                V     V ⎠  "
      ]
     },
     "execution_count": 8,
     "metadata": {},
     "output_type": "execute_result"
    }
   ],
   "source": [
    "deltaP = sqrt(partials**2)\n",
    "deltaP"
   ]
  },
  {
   "cell_type": "code",
   "execution_count": null,
   "metadata": {
    "collapsed": true
   },
   "outputs": [],
   "source": []
  },
  {
   "cell_type": "markdown",
   "metadata": {},
   "source": [
    "### Compressibility of an ideal gas\n",
    "$$Z = \\frac{PV}{RT} \\qquad  R \\text{ constant}$$"
   ]
  },
  {
   "cell_type": "code",
   "execution_count": 9,
   "metadata": {
    "collapsed": false
   },
   "outputs": [
    {
     "data": {
      "image/png": "[encoded data removed]",
      "text/latex": [
       "$$\\sqrt{\\frac{P^{2}}{R^{2} T^{2}} + \\frac{P^{2} V^{2}}{R^{2} T^{4}} + \\frac{V^{2}}{R^{2} T^{2}}}$$"
      ],
      "text/plain": [
       "      _______________________\n",
       "     ╱    2     2  2      2  \n",
       "    ╱    P     P ⋅V      V   \n",
       "   ╱   ───── + ───── + ───── \n",
       "  ╱     2  2    2  4    2  2 \n",
       "╲╱     R ⋅T    R ⋅T    R ⋅T  "
      ]
     },
     "execution_count": 9,
     "metadata": {},
     "output_type": "execute_result"
    }
   ],
   "source": [
    "var(\"P V T R\")\n",
    "Z = P*V/(R*T)\n",
    "\n",
    "deltaZ2 = sum(diff(Z,x)**2 for x in [P,V,T])\n",
    "sqrt(deltaZ2)"
   ]
  },
  {
   "cell_type": "markdown",
   "metadata": {},
   "source": [
    "### Rotational partition function\n",
    " \n",
    "$$q_r  = \\frac{2IkT}{\\sigma h^2} \\qquad k,\\: \\sigma,\\: h\n",
    "  \\text{ constant}$$"
   ]
  },
  {
   "cell_type": "code",
   "execution_count": 10,
   "metadata": {
    "collapsed": false
   },
   "outputs": [
    {
     "data": {
      "image/png": "[encoded data removed]",
      "text/latex": [
       "$$\\left ( \\sqrt{\\frac{4 I^{2} k^{2}}{h^{4} \\sigma^{2}} + \\frac{4 T^{2} k^{2}}{h^{4} \\sigma^{2}}}, \\quad 2 \\sqrt{\\frac{k^{2} \\left(I^{2} + T^{2}\\right)}{h^{4} \\sigma^{2}}}\\right )$$"
      ],
      "text/plain": [
       "⎛      ___________________          ______________⎞\n",
       "⎜     ╱    2  2      2  2          ╱  2 ⎛ 2    2⎞ ⎟\n",
       "⎜    ╱  4⋅I ⋅k    4⋅T ⋅k          ╱  k ⋅⎝I  + T ⎠ ⎟\n",
       "⎜   ╱   ─────── + ─────── , 2⋅   ╱   ──────────── ⎟\n",
       "⎜  ╱      4  2      4  2        ╱        4  2     ⎟\n",
       "⎝╲╱      h ⋅σ      h ⋅σ       ╲╱        h ⋅σ      ⎠"
      ]
     },
     "execution_count": 10,
     "metadata": {},
     "output_type": "execute_result"
    }
   ],
   "source": [
    "var('I k T sigma h')\n",
    "\n",
    "q_r = 2*I*k*T/(sigma*h**2)\n",
    "deltaq_r2 = sum(diff(q_r, x)**2 for x in [I,T])\n",
    "sqrt(deltaq_r2), sqrt(deltaq_r2).simplify()"
   ]
  },
  {
   "cell_type": "markdown",
   "metadata": {},
   "source": [
    "### Translational partition function\n",
    " \n",
    "$$ q_{tr} = \\left( \\frac{2 \\pi mkT}{h^2}\\right) ^{3/2} \\qquad\n",
    "  k, h \\text{ constant}\n",
    "$$"
   ]
  },
  {
   "cell_type": "code",
   "execution_count": 11,
   "metadata": {
    "collapsed": false
   },
   "outputs": [
    {
     "data": {
      "image/png": "[encoded data removed]",
      "text/latex": [
       "$$2 \\sqrt{2} \\pi^{\\frac{3}{2}} \\left(\\frac{T k}{h^{2}} m\\right)^{\\frac{3}{2}}$$"
      ],
      "text/plain": [
       "                    3/2\n",
       "    ___  3/2 ⎛T⋅k⋅m⎞   \n",
       "2⋅╲╱ 2 ⋅π   ⋅⎜─────⎟   \n",
       "             ⎜   2 ⎟   \n",
       "             ⎝  h  ⎠   "
      ]
     },
     "execution_count": 11,
     "metadata": {},
     "output_type": "execute_result"
    }
   ],
   "source": [
    "# exponent is a rational number\n",
    "var('m k T h')\n",
    "\n",
    "q_tr = ( 2*pi*m*k*T/h**2 )**(S(3)/2)\n",
    "q_tr"
   ]
  },
  {
   "cell_type": "code",
   "execution_count": 12,
   "metadata": {
    "collapsed": false
   },
   "outputs": [
    {
     "data": {
      "image/png": "[encoded data removed]",
      "text/latex": [
       "$$\\sqrt{\\frac{18 m}{h^{6}} \\pi^{3} T^{3} k^{3} + \\frac{18 T}{h^{6}} \\pi^{3} k^{3} m^{3}}$$"
      ],
      "text/plain": [
       "      _______________________________\n",
       "     ╱     3  3  3         3    3  3 \n",
       "    ╱  18⋅π ⋅T ⋅k ⋅m   18⋅π ⋅T⋅k ⋅m  \n",
       "   ╱   ───────────── + ───────────── \n",
       "  ╱           6               6      \n",
       "╲╱           h               h       "
      ]
     },
     "execution_count": 12,
     "metadata": {},
     "output_type": "execute_result"
    }
   ],
   "source": [
    "deltaq_tr = sqrt(sum(diff(q_tr,x)**2 for x in [m,T]))\n",
    "deltaq_tr"
   ]
  },
  {
   "cell_type": "code",
   "execution_count": 13,
   "metadata": {
    "collapsed": true
   },
   "outputs": [],
   "source": [
    "from sympy import *\n",
    "init_printing()"
   ]
  },
  {
   "cell_type": "code",
   "execution_count": 14,
   "metadata": {
    "collapsed": false
   },
   "outputs": [
    {
     "data": {
      "image/png": "[encoded data removed]",
      "text/latex": [
       "$$\\left ( p, \\quad v, \\quad r, \\quad t, \\quad a, \\quad b\\right )$$"
      ],
      "text/plain": [
       "(p, v, r, t, a, b)"
      ]
     },
     "execution_count": 14,
     "metadata": {},
     "output_type": "execute_result"
    }
   ],
   "source": [
    "var('p,v,r,t,a,b')"
   ]
  },
  {
   "cell_type": "code",
   "execution_count": 15,
   "metadata": {
    "collapsed": false
   },
   "outputs": [
    {
     "name": "stdout",
     "output_type": "stream",
     "text": [
      "p⋅v\n",
      "───\n",
      "r⋅t\n"
     ]
    },
    {
     "data": {
      "image/png": "[encoded data removed]",
      "text/latex": [
       "$$\\frac{v}{r t}$$"
      ],
      "text/plain": [
       " v \n",
       "───\n",
       "r⋅t"
      ]
     },
     "execution_count": 15,
     "metadata": {},
     "output_type": "execute_result"
    }
   ],
   "source": [
    "# compressibility of ideal gas\n",
    "z = p*v/(r*t)\n",
    "pprint(z)\n",
    "\n",
    "diff(z, p)"
   ]
  },
  {
   "cell_type": "code",
   "execution_count": 17,
   "metadata": {
    "collapsed": false
   },
   "outputs": [
    {
     "name": "stdout",
     "output_type": "stream",
     "text": [
      " v \n",
      "───\n",
      "r⋅t\n",
      "\n",
      "\n",
      " p \n",
      "───\n",
      "r⋅t\n",
      "\n",
      "\n",
      "-p⋅v \n",
      "─────\n",
      "    2\n",
      " r⋅t \n",
      "\n",
      "\n"
     ]
    }
   ],
   "source": [
    "for x in [p, v, t]:\n",
    "    w = diff(z, x)\n",
    "    pprint(w), print('\\n')"
   ]
  },
  {
   "cell_type": "code",
   "execution_count": 18,
   "metadata": {
    "collapsed": false
   },
   "outputs": [
    {
     "data": {
      "image/png": "[encoded data removed]",
      "text/latex": [
       "$$\\sqrt{\\frac{p}{r t} - \\frac{p v}{r t^{2}} + \\frac{v}{r t}}$$"
      ],
      "text/plain": [
       "     __________________\n",
       "    ╱  p    p⋅v     v  \n",
       "   ╱  ─── - ──── + ─── \n",
       "  ╱   r⋅t      2   r⋅t \n",
       "╲╱          r⋅t        "
      ]
     },
     "execution_count": 18,
     "metadata": {},
     "output_type": "execute_result"
    }
   ],
   "source": [
    "sqrt(sum([diff(z,x) for x in [p,v,t]]))"
   ]
  },
  {
   "cell_type": "code",
   "execution_count": 19,
   "metadata": {
    "collapsed": false
   },
   "outputs": [
    {
     "data": {
      "image/png": "[encoded data removed]",
      "text/latex": [
       "$$- \\frac{a}{v^{2}} + \\frac{r t}{- b + v}$$"
      ],
      "text/plain": [
       "  a     r⋅t  \n",
       "- ── + ──────\n",
       "   2   -b + v\n",
       "  v          "
      ]
     },
     "execution_count": 19,
     "metadata": {},
     "output_type": "execute_result"
    }
   ],
   "source": [
    "P = r*t/(v-b) - (a/v**2)\n",
    "P"
   ]
  },
  {
   "cell_type": "code",
   "execution_count": 20,
   "metadata": {
    "collapsed": false
   },
   "outputs": [
    {
     "data": {
      "image/png": "[encoded data removed]",
      "text/latex": [
       "$$\\sqrt{\\frac{r^{2} t^{2}}{\\left(- b + v\\right)^{4}} + \\frac{r^{2}}{\\left(- b + v\\right)^{2}} + \\left(\\frac{2 a}{v^{3}} - \\frac{r t}{\\left(- b + v\\right)^{2}}\\right)^{2} + \\frac{1}{v^{4}}}$$"
      ],
      "text/plain": [
       "      _________________________________________________\n",
       "     ╱    2  2          2                       2      \n",
       "    ╱    r ⋅t          r       ⎛2⋅a      r⋅t   ⎞    1  \n",
       "   ╱   ───────── + ───────── + ⎜─── - ─────────⎟  + ── \n",
       "  ╱            4           2   ⎜  3           2⎟     4 \n",
       "╲╱     (-b + v)    (-b + v)    ⎝ v    (-b + v) ⎠    v  "
      ]
     },
     "execution_count": 20,
     "metadata": {},
     "output_type": "execute_result"
    }
   ],
   "source": [
    "w = [diff(P, x)**2 for x in (a,b,v,t)]\n",
    "sqrt(sum(w))"
   ]
  },
  {
   "cell_type": "code",
   "execution_count": 21,
   "metadata": {
    "collapsed": false
   },
   "outputs": [
    {
     "data": {
      "image/png": "[encoded data removed]",
      "text/latex": [
       "$$\\sqrt{\\frac{3 r}{4 m t} + \\frac{3 r t}{4 m^{3}}}$$"
      ],
      "text/plain": [
       "     _______________\n",
       "    ╱  3⋅r    3⋅r⋅t \n",
       "   ╱  ───── + ───── \n",
       "  ╱   4⋅m⋅t       3 \n",
       "╲╱             4⋅m  "
      ]
     },
     "execution_count": 21,
     "metadata": {},
     "output_type": "execute_result"
    }
   ],
   "source": [
    "m=var('m')\n",
    "vrms = sqrt(3*r*t/m)\n",
    "\n",
    "w = sum([diff(vrms, x)**2 for x in (t,m)])\n",
    "w**(S(1)/2)"
   ]
  },
  {
   "cell_type": "code",
   "execution_count": null,
   "metadata": {
    "collapsed": true
   },
   "outputs": [],
   "source": []
  }
 ],
 "metadata": {
  "kernelspec": {
   "display_name": "Python 3",
   "language": "python",
   "name": "python3"
  },
  "language_info": {
   "codemirror_mode": {
    "name": "ipython",
    "version": 3
   },
   "file_extension": ".py",
   "mimetype": "text/x-python",
   "name": "python",
   "nbconvert_exporter": "python",
   "pygments_lexer": "ipython3",
   "version": "3.4.3"
  }
 },
 "nbformat": 4,
 "nbformat_minor": 0
}
