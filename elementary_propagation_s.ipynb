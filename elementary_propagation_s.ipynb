{
 "cells": [
  {
   "cell_type": "markdown",
   "metadata": {},
   "source": [
    "# Elementary Propagation\n",
    "S Singleton based an assignment by J Mills, R Estler"
   ]
  },
  {
   "cell_type": "markdown",
   "metadata": {},
   "source": [
    "## Information\n",
    "- *An Introduction to Error Analysis*, Taylor, University Science Books, 1997, Ch 3.\n",
    "- Wikipedia [Propagation of Uncertainty](https://en.wikipedia.org/wiki/Propagation_of_uncertainty#Simplification)\n",
    "- NIST's Engineering Statistics Handbook [Propagation of error considerations](http://itl.nist.gov/div898/handbook/mpc/section5/mpc55.htm)\n",
    "- \"Error propagation: A functional approach,\" I.F. Hughes, T.P.A. Hase, *J. Chem. Ed.*, 89, 2012, p821,  [DOI: 10.1021/ed2004627](http://pubs.acs.org/doi/abs/10.1021/ed2004627)\n",
    "- *A Student's Guide to Data and Error Analysis*, Berendsen, Cambridge U. Press, 2011, Ch 3.\n"
   ]
  },
  {
   "cell_type": "markdown",
   "metadata": {},
   "source": [
    "## Learning Outcomes\n",
    "- Use the general formula for propagation of error\n",
    "- Use `sympy` to derive symbolic expressions useful in the propagation of error"
   ]
  },
  {
   "cell_type": "markdown",
   "metadata": {},
   "source": [
    "# Task\n",
    "Apply the general uncertainty propagation equation to the measurement situation listed\n",
    "below to develop specific explicit uncertainty expressions.\n",
    "\n",
    "For example\n",
    "<center>Absorbance = absorptivity $\\times$ path length $\\times$ molarity</center>\n",
    "\n",
    "$$A = a \\times b \\times M$$\n",
    "\n",
    "The uncertainty in $A$ is $\\delta A$, and so on.\n",
    "\n",
    "\n",
    "$$\n",
    "  \\delta A = \\sqrt{\\left( \\frac{\\partial A}{\\partial a}\\right) ^2\n",
    "    _{bM} \\delta a^2 + \\left(\\frac{\\partial A}{\\partial b}\n",
    "    \\right)^2_{aM} \\delta b^2 + \\left(\\frac{\\partial A}{\\partial\n",
    "        M}\\right)^2_{ab} \\delta\n",
    "    M^2 }\n",
    "$$ \n",
    "\n",
    "Take the derivative of $A$ with respect to each variable and simplify:\n",
    "\n",
    "$$\n",
    "  = \\sqrt{(b^2 M^2 \\delta a^2 + a^2 M^2 \\delta b^2 + a^2 b^2 \\delta\n",
    "  M^2)} $$"
   ]
  },
  {
   "cell_type": "markdown",
   "metadata": {},
   "source": [
    "## How it can be done"
   ]
  },
  {
   "cell_type": "markdown",
   "metadata": {},
   "source": [
    "This is a symbolic manipulation, so we use `sympy`. It's safe to '`import *`' because we won't be doing `numpy`-related work in this notebook.  The uncertainty terms (e.g, $\\delta a$) could be included, but I chose not to. In this case, I would \"manually\" include these terms in a written solution (sometimes the computer isn't the best tool for everything?)."
   ]
  },
  {
   "cell_type": "code",
   "execution_count": 1,
   "metadata": {
    "collapsed": false
   },
   "outputs": [],
   "source": [
    "# uncomment next line if running python2\n",
    "#from __future__ import print_function, division\n",
    "from sympy import *\n",
    "init_printing()"
   ]
  },
  {
   "cell_type": "code",
   "execution_count": 2,
   "metadata": {
    "collapsed": false
   },
   "outputs": [],
   "source": [
    "# declare sympy variables\n",
    "var('a b M')\n",
    "\n",
    "# assign A an expression\n",
    "A = a * b * M"
   ]
  },
  {
   "cell_type": "markdown",
   "metadata": {},
   "source": [
    "Next, calculate the partial derivatives with respect to each variable, e.g., $\\partial A / \\partial a$. I will show three ways to accomplish the task. There is usually a trade-off between readability and coding efficiency. Choose the former when in doubt."
   ]
  },
  {
   "cell_type": "markdown",
   "metadata": {},
   "source": [
    "### Approach 1: compute each term individually"
   ]
  },
  {
   "cell_type": "code",
   "execution_count": 3,
   "metadata": {
    "collapsed": false
   },
   "outputs": [
    {
     "data": {
      "image/png": "[encoded data removed]",
      "text/latex": [
       "$$\\left ( M b, \\quad M a, \\quad a b\\right )$$"
      ],
      "text/plain": [
       "(M⋅b, M⋅a, a⋅b)"
      ]
     },
     "execution_count": 3,
     "metadata": {},
     "output_type": "execute_result"
    }
   ],
   "source": [
    "dA_da = diff(A, a)\n",
    "dA_db = diff(A, b)\n",
    "dA_dM = diff(A, M)\n",
    "\n",
    "dA_da, dA_db, dA_dM"
   ]
  },
  {
   "cell_type": "code",
   "execution_count": 4,
   "metadata": {
    "collapsed": false
   },
   "outputs": [
    {
     "data": {
      "image/png": "[encoded data removed]",
      "text/latex": [
       "$$\\sqrt{M^{2} a^{2} + M^{2} b^{2} + a^{2} b^{2}}$$"
      ],
      "text/plain": [
       "   _______________________\n",
       "  ╱  2  2    2  2    2  2 \n",
       "╲╱  M ⋅a  + M ⋅b  + a ⋅b  "
      ]
     },
     "execution_count": 4,
     "metadata": {},
     "output_type": "execute_result"
    }
   ],
   "source": [
    "# square, sum, and square root these terms (sum in quadrature)\n",
    "deltaA = sqrt(dA_da**2 + dA_db**2 + dA_dM**2)\n",
    "deltaA"
   ]
  },
  {
   "cell_type": "markdown",
   "metadata": {},
   "source": [
    "### Approach 2: use a `for` loop and accumulation variable"
   ]
  },
  {
   "cell_type": "code",
   "execution_count": 5,
   "metadata": {
    "collapsed": false
   },
   "outputs": [
    {
     "data": {
      "image/png": "[encoded data removed]",
      "text/latex": [
       "$$\\left ( M^{2} a^{2} + M^{2} b^{2} + a^{2} b^{2}, \\quad \\sqrt{M^{2} a^{2} + M^{2} b^{2} + a^{2} b^{2}}\\right )$$"
      ],
      "text/plain": [
       "⎛                          _______________________⎞\n",
       "⎜ 2  2    2  2    2  2    ╱  2  2    2  2    2  2 ⎟\n",
       "⎝M ⋅a  + M ⋅b  + a ⋅b , ╲╱  M ⋅a  + M ⋅b  + a ⋅b  ⎠"
      ]
     },
     "execution_count": 5,
     "metadata": {},
     "output_type": "execute_result"
    }
   ],
   "source": [
    "cumsum = 0  # a variable for the cumulative sum\n",
    "\n",
    "for v in ['a', 'b', 'M']:\n",
    "    cumsum = cumsum + diff(A, v)**2\n",
    "\n",
    "cumsum, sqrt(cumsum)"
   ]
  },
  {
   "cell_type": "markdown",
   "metadata": {},
   "source": [
    "### Approach 3: list comprehension\n",
    "(the melt-your-brain approach)"
   ]
  },
  {
   "cell_type": "code",
   "execution_count": 6,
   "metadata": {
    "collapsed": false
   },
   "outputs": [
    {
     "data": {
      "image/png": "[encoded data removed]",
      "text/latex": [
       "$$\\sqrt{M^{2} a^{2} + M^{2} b^{2} + a^{2} b^{2}}$$"
      ],
      "text/plain": [
       "   _______________________\n",
       "  ╱  2  2    2  2    2  2 \n",
       "╲╱  M ⋅a  + M ⋅b  + a ⋅b  "
      ]
     },
     "execution_count": 6,
     "metadata": {},
     "output_type": "execute_result"
    }
   ],
   "source": [
    "sqrt(sum(diff(A,v)**2 for v in['a', 'b', 'M']))  "
   ]
  },
  {
   "cell_type": "markdown",
   "metadata": {},
   "source": [
    "## Your Turn\n",
    "Derive uncertainty relationships for the following expressions. Constants are noted; all other labels are variables."
   ]
  },
  {
   "cell_type": "markdown",
   "metadata": {},
   "source": [
    "### Root-mean-square speed of a gas-phase molecule\n",
    "$$ \n",
    " v_{\\text{rms}} = \\sqrt{\\frac{3 RT}{M}}   \\qquad  R \\text{ constant}\n",
    " $$"
   ]
  },
  {
   "cell_type": "code",
   "execution_count": null,
   "metadata": {
    "collapsed": true
   },
   "outputs": [],
   "source": []
  },
  {
   "cell_type": "markdown",
   "metadata": {},
   "source": [
    "### van der Waals [equation of state](https://en.wikipedia.org/wiki/Van_der_Waals_equation) for real gases\n",
    " \n",
    "$$P = \\frac{RT}{V-b} - \\frac{a}{V^2} \\qquad  R \\text{ constant}$$"
   ]
  },
  {
   "cell_type": "code",
   "execution_count": null,
   "metadata": {
    "collapsed": true
   },
   "outputs": [],
   "source": []
  },
  {
   "cell_type": "markdown",
   "metadata": {},
   "source": [
    "### Compressibility of an ideal gas\n",
    "$$Z = \\frac{PV}{RT} \\qquad  R \\text{ constant}$$"
   ]
  },
  {
   "cell_type": "code",
   "execution_count": null,
   "metadata": {
    "collapsed": true
   },
   "outputs": [],
   "source": []
  },
  {
   "cell_type": "markdown",
   "metadata": {},
   "source": [
    "### Rotational partition function\n",
    " \n",
    "$$q_r  = \\frac{2IkT}{\\sigma h^2} \\qquad k,\\: \\sigma,\\: h\n",
    "  \\text{ constant}$$"
   ]
  },
  {
   "cell_type": "code",
   "execution_count": null,
   "metadata": {
    "collapsed": true
   },
   "outputs": [],
   "source": []
  },
  {
   "cell_type": "markdown",
   "metadata": {},
   "source": [
    "### Translational partition function\n",
    " \n",
    "$$ q_{tr} = \\left( \\frac{2 \\pi mkT}{h^2}\\right) ^{3/2} \\qquad\n",
    "  k, h \\text{ constant}\n",
    "$$"
   ]
  },
  {
   "cell_type": "code",
   "execution_count": null,
   "metadata": {
    "collapsed": true
   },
   "outputs": [],
   "source": []
  }
 ],
 "metadata": {
  "anaconda-cloud": {},
  "kernelspec": {
   "display_name": "Python [default]",
   "language": "python",
   "name": "python3"
  },
  "language_info": {
   "codemirror_mode": {
    "name": "ipython",
    "version": 3
   },
   "file_extension": ".py",
   "mimetype": "text/x-python",
   "name": "python",
   "nbconvert_exporter": "python",
   "pygments_lexer": "ipython3",
   "version": "3.5.2"
  }
 },
 "nbformat": 4,
 "nbformat_minor": 0
}
