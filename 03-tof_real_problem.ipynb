{
 "cells": [
  {
   "cell_type": "markdown",
   "metadata": {},
   "source": [
    "# A Real Problem"
   ]
  },
  {
   "cell_type": "markdown",
   "metadata": {},
   "source": [
    "Undergraduate laboratory students constructed a [time-of-flight mass spectrometer](https://en.wikipedia.org/wiki/Time-of-flight_mass_spectrometry) which is employed in a variety of laser-surface interaction studies. It is a very simple device. In an environment where the mean free path of molecules is on the order of meters (high vacuum), ions are created by a laser. The ions are accelerated to an energy $E$ by placing voltages on electrodes in the ionization region. All ions are accelerated to this same energy, regardless of mass. Following this acceleration to $E$, the ions “drift” in a field-free region of length $L$, to a detector. The time between creation of the ion (time=0) and detection of the ion (time=t) is then mass dependent.\n",
    "\n",
    "<img src=\"http://benthamopen.com/contents/figures/TOMICROJ/TOMICROJ-7-135_F2.jpg\">\n",
    "\n",
    "### More information:\n",
    "\n",
    "YTV overview of [time of flight mass spectrometry](https://www.youtube.com/watch?v=NyIAPU7usfo)\n",
    "\n",
    "TOF-MS with both linear and reflection mode capabilities:\n",
    "<img src=\"http://wln.nl/wp-content/uploads/2014/06/MALDI-TOF.png\" width=\"500\">"
   ]
  },
  {
   "cell_type": "markdown",
   "metadata": {},
   "source": [
    "## Exercise 1\n",
    "Using principles learned in general physics, derive the time-of-flight for an ion of mass m, energy E, that travels a distance, L."
   ]
  },
  {
   "cell_type": "markdown",
   "metadata": {},
   "source": [
    "### Solution\n",
    "\n",
    "$$ E = \\frac{1}{2} m v^2 $$\n",
    "\n",
    "$$ v = \\sqrt{\\frac{2E}{m}} $$\n",
    "\n",
    "$$ L = v \\times t $$\n",
    "\n",
    "$$ L = \\sqrt{\\frac{2E}{m} } \\times t $$"
   ]
  },
  {
   "cell_type": "markdown",
   "metadata": {},
   "source": [
    "## Exercise 2\n",
    "One of the problems in Time-of-Flight Mass Spectrometry (TOFMS) is the resolution of the mass spectra is low (time or mass “distance” between ions of similar mass is small). This can be due, in part, to changing acceleration voltages (AC voltage “ripple” in DC power supplies). This results in an uncertainty, $\\delta E$, in the energy, $E$. Derive an expression for the uncertainty in the time-of-flight due to uncertainty in $E$. \n",
    "\n",
    "To illustrate this limitation, use a spreadsheet or python to evaluate the time-of-flight and its uncertainty for the following ions and conditions: (remember the SI units!)\n",
    "\n",
    "| Ion            | Flight Distance/m |  Energy/eV   | $\\delta$E/eV |\n",
    "|----------------|:-----------------:|-----------:|----------:|\n",
    "| $^{63}$Cu$^+$  |   1.16    |   1000.   |         5 |\n",
    "| $^{65}$Cu$^+$  |   1.16    |   1000.   |         5 |\n",
    "| Protein($1^+$) |   1.16    | 20,000.   |       200 |\n"
   ]
  },
  {
   "cell_type": "markdown",
   "metadata": {},
   "source": [
    "### Soln\n",
    "$$ t   = \\frac{L}{v} $$\n",
    "\n",
    "$$ t = \\frac{L}{\\sqrt{\\frac{2E}{m}}} = L \\left ( \\sqrt{\\frac{m}{2E}} \\right)^{1/2} $$\n"
   ]
  },
  {
   "cell_type": "code",
   "execution_count": 1,
   "metadata": {
    "collapsed": true
   },
   "outputs": [],
   "source": [
    "import sympy as sy\n",
    "sy.init_printing()"
   ]
  },
  {
   "cell_type": "code",
   "execution_count": 2,
   "metadata": {
    "collapsed": false
   },
   "outputs": [
    {
     "data": {
      "image/png": "[encoded data removed]",
      "text/latex": [
       "$$\\left ( L, \\quad E, \\quad m, \\quad v\\right )$$"
      ],
      "text/plain": [
       "(L, E, m, v)"
      ]
     },
     "execution_count": 2,
     "metadata": {},
     "output_type": "execute_result"
    }
   ],
   "source": [
    "sy.var('L E m v')"
   ]
  },
  {
   "cell_type": "code",
   "execution_count": 3,
   "metadata": {
    "collapsed": false
   },
   "outputs": [
    {
     "data": {
      "image/png": "[encoded data removed]",
      "text/latex": [
       "$$\\sqrt{2} \\sqrt{\\frac{E}{m}}$$"
      ],
      "text/plain": [
       "       ___\n",
       "      ╱ E \n",
       "√2⋅  ╱  ─ \n",
       "   ╲╱   m "
      ]
     },
     "execution_count": 3,
     "metadata": {},
     "output_type": "execute_result"
    }
   ],
   "source": [
    "v = sy.sqrt( (2*E)/m ); v"
   ]
  },
  {
   "cell_type": "code",
   "execution_count": 4,
   "metadata": {
    "collapsed": false
   },
   "outputs": [
    {
     "data": {
      "image/png": "[encoded data removed]",
      "text/latex": [
       "$$\\frac{\\sqrt{2} L}{2 \\sqrt{\\frac{E}{m}}}$$"
      ],
      "text/plain": [
       "   √2⋅L  \n",
       "─────────\n",
       "      ___\n",
       "     ╱ E \n",
       "2⋅  ╱  ─ \n",
       "  ╲╱   m "
      ]
     },
     "execution_count": 4,
     "metadata": {},
     "output_type": "execute_result"
    }
   ],
   "source": [
    "t = L/v; t"
   ]
  },
  {
   "cell_type": "code",
   "execution_count": 7,
   "metadata": {
    "collapsed": false
   },
   "outputs": [
    {
     "data": {
      "image/png": "[encoded data removed]",
      "text/latex": [
       "$$- \\frac{\\sqrt{2} L}{4 E \\sqrt{\\frac{E}{m}}}$$"
      ],
      "text/plain": [
       "   -√2⋅L   \n",
       "───────────\n",
       "        ___\n",
       "       ╱ E \n",
       "4⋅E⋅  ╱  ─ \n",
       "    ╲╱   m "
      ]
     },
     "execution_count": 7,
     "metadata": {},
     "output_type": "execute_result"
    }
   ],
   "source": [
    "dtdE = t.diff(E)\n",
    "dtdE"
   ]
  },
  {
   "cell_type": "markdown",
   "metadata": {},
   "source": [
    "So \n",
    "\n",
    "$$\\delta t = \\sqrt{ \\left( \\frac{\\partial t}{\\partial E} \\right )^2 } \\ \\delta E^2 $$"
   ]
  },
  {
   "cell_type": "code",
   "execution_count": 15,
   "metadata": {
    "collapsed": false
   },
   "outputs": [],
   "source": [
    "J_eV = 1.6022e-19 # J/eV\n",
    "\n",
    "et = dtdE.subs({E:1000*J_eV, L:1.16})"
   ]
  },
  {
   "cell_type": "code",
   "execution_count": 16,
   "metadata": {
    "collapsed": false
   },
   "outputs": [
    {
     "data": {
      "image/png": "[encoded data removed]",
      "text/latex": [
       "$$32400717.8321784 \\sqrt{m}$$"
      ],
      "text/plain": [
       "32400717.8321784⋅√m"
      ]
     },
     "execution_count": 16,
     "metadata": {},
     "output_type": "execute_result"
    }
   ],
   "source": [
    "delta_t = sy.sqrt(et**2) * delta_E\n",
    "delta_t"
   ]
  },
  {
   "cell_type": "code",
   "execution_count": 17,
   "metadata": {
    "collapsed": false
   },
   "outputs": [
    {
     "data": {
      "image/png": "[encoded data removed]",
      "text/latex": [
       "$$969.34040312636$$"
      ],
      "text/plain": [
       "969.340403126360"
      ]
     },
     "execution_count": 17,
     "metadata": {},
     "output_type": "execute_result"
    }
   ],
   "source": [
    "delta_t.subs(m,sy.sqrt(5*1.6022e-19))"
   ]
  },
  {
   "cell_type": "code",
   "execution_count": null,
   "metadata": {
    "collapsed": true
   },
   "outputs": [],
   "source": []
  }
 ],
 "metadata": {
  "anaconda-cloud": {},
  "kernelspec": {
   "display_name": "Python [default]",
   "language": "python",
   "name": "python3"
  },
  "language_info": {
   "codemirror_mode": {
    "name": "ipython",
    "version": 3
   },
   "file_extension": ".py",
   "mimetype": "text/x-python",
   "name": "python",
   "nbconvert_exporter": "python",
   "pygments_lexer": "ipython3",
   "version": "3.5.2"
  }
 },
 "nbformat": 4,
 "nbformat_minor": 0
}
