{
 "cells": [
  {
   "cell_type": "code",
   "execution_count": 1,
   "metadata": {
    "collapsed": false
   },
   "outputs": [],
   "source": [
    "M = [(0.326, 0.002), (0.300, 0.002), (0.347, 0.002)]\n",
    "T = [(93.0, 0.5), (93.0, 0.5), (93.0, 0.5)]\n",
    "P = [(592, 1), (592, 1), (592, 1)]\n",
    "V = [(156, 1), (156, 1), (156, 1)]"
   ]
  },
  {
   "cell_type": "code",
   "execution_count": 2,
   "metadata": {
    "collapsed": false
   },
   "outputs": [],
   "source": [
    "def t2a(ptorr):\n",
    "    \"Convert pressure in torr to pressure in atm\"\n",
    "\n",
    "    pa = [p/760 for p in ptorr]\n",
    "    return pa\n",
    "\n",
    "\n",
    "def c2k(tempC):\n",
    "    \"Convert Celsius temperature to Kelvin\"\n",
    "\n",
    "    return tempC[0]+273.15, tempC[1]\n",
    "\n",
    "\n",
    "def ml2l(vol):\n",
    "    \"Convert mL to L\"\n",
    "    \n",
    "    return [v/1000. for v in vol]"
   ]
  },
  {
   "cell_type": "code",
   "execution_count": 3,
   "metadata": {
    "collapsed": true
   },
   "outputs": [],
   "source": [
    "R = 0.08205746  # l*atm/mol K"
   ]
  },
  {
   "cell_type": "code",
   "execution_count": 7,
   "metadata": {
    "collapsed": false
   },
   "outputs": [],
   "source": [
    "mc = M  # nothing to do for m conversion\n",
    "tc = [c2k(t) for t in T]\n",
    "pc = [t2a(p) for p in P]\n",
    "vc = [ml2l(v) for v in V]\n",
    "\n",
    "#mc, tc, pc, vc"
   ]
  },
  {
   "cell_type": "code",
   "execution_count": 5,
   "metadata": {
    "collapsed": false
   },
   "outputs": [
    {
     "name": "stdout",
     "output_type": "stream",
     "text": [
      "Run 1: dm = 0.24, dt = 0.01, dp = 0.02, dv = 0.27, total err = 0.736\n",
      "Run 2: dm = 0.24, dt = 0.01, dp = 0.02, dv = 0.23, total err = 0.705\n",
      "Run 3: dm = 0.24, dt = 0.01, dp = 0.02, dv = 0.30, total err = 0.763\n"
     ]
    }
   ],
   "source": [
    "# calculate partials**2  * delta**2\n",
    "err_terms = []\n",
    "results = []\n",
    "for m, t, p, v in zip(mc, tc, pc, vc):\n",
    "    #print(m, t, p, v)\n",
    "    dM2 = ((R*t[0]/(p[0]*v[0]))**2) * m[1]**2\n",
    "    dT2 = ((R*m[0]/(p[0]*v[0]))**2) * t[1]**2\n",
    "    dP2 = ((-R*m[0]*t[0]/(v[0]*p[0]**2))**2) * p[1]**2\n",
    "    dV2 = ((-R*m[0]*t[0]/(p[0]*v[0]**2))**2) * v[1]**2\n",
    "    err_terms.append([dM2, dT2, dP2, dV2])\n",
    "    results.append(R*m[0]*t[0]/(p[0]*v[0]))\n",
    "\n",
    "from math import sqrt\n",
    "# compute each error term\n",
    "run = 0\n",
    "for m, t, p, v in err_terms:\n",
    "    run +=1\n",
    "    tot_err = sqrt(sum([m, t, p, v]))\n",
    "    print(\"Run %s: dm = %.2f, dt = %.2f, dp = %.2f, dv = %.2f, total err = %.3f\" %(run, m, t, p, v, tot_err))"
   ]
  },
  {
   "cell_type": "code",
   "execution_count": 6,
   "metadata": {
    "collapsed": false
   },
   "outputs": [
    {
     "data": {
      "text/plain": [
       "[80.6050024410629, 74.17638261447506, 85.79734922407613]"
      ]
     },
     "execution_count": 6,
     "metadata": {},
     "output_type": "execute_result"
    }
   ],
   "source": [
    "# MW = mRT/PV\n",
    "results"
   ]
  },
  {
   "cell_type": "code",
   "execution_count": null,
   "metadata": {
    "collapsed": true
   },
   "outputs": [],
   "source": []
  },
  {
   "cell_type": "code",
   "execution_count": null,
   "metadata": {
    "collapsed": true
   },
   "outputs": [],
   "source": []
  },
  {
   "cell_type": "code",
   "execution_count": null,
   "metadata": {
    "collapsed": true
   },
   "outputs": [],
   "source": []
  },
  {
   "cell_type": "code",
   "execution_count": null,
   "metadata": {
    "collapsed": true
   },
   "outputs": [],
   "source": []
  },
  {
   "cell_type": "code",
   "execution_count": null,
   "metadata": {
    "collapsed": true
   },
   "outputs": [],
   "source": []
  }
 ],
 "metadata": {
  "anaconda-cloud": {},
  "kernelspec": {
   "display_name": "Python [default]",
   "language": "python",
   "name": "python3"
  },
  "language_info": {
   "codemirror_mode": {
    "name": "ipython",
    "version": 3
   },
   "file_extension": ".py",
   "mimetype": "text/x-python",
   "name": "python",
   "nbconvert_exporter": "python",
   "pygments_lexer": "ipython3",
   "version": "3.5.2"
  }
 },
 "nbformat": 4,
 "nbformat_minor": 0
}
